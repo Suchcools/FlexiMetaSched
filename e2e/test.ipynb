{
 "cells": [
  {
   "cell_type": "code",
   "execution_count": 6,
   "metadata": {},
   "outputs": [],
   "source": [
    "import sys\n",
    "sys.path.append('../heuristic')\n",
    "from methods.common import read_env,calculate_cost\n",
    "pop,J,M,W,N,A,D,pt,p = read_env('../env/case1/0.xlsx')"
   ]
  },
  {
   "cell_type": "code",
   "execution_count": 7,
   "metadata": {},
   "outputs": [],
   "source": [
    "### 计算时间"
   ]
  },
  {
   "cell_type": "code",
   "execution_count": 8,
   "metadata": {},
   "outputs": [
    {
     "data": {
      "text/plain": [
       "{0: 12414.0, 1: 14115.0}"
      ]
     },
     "execution_count": 8,
     "metadata": {},
     "output_type": "execute_result"
    }
   ],
   "source": [
    "calculate_cost(pop[0],J, M, A, D, N, pt, p, W)[1]"
   ]
  },
  {
   "cell_type": "code",
   "execution_count": 9,
   "metadata": {},
   "outputs": [
    {
     "data": {
      "text/plain": [
       "14115.0"
      ]
     },
     "execution_count": 9,
     "metadata": {},
     "output_type": "execute_result"
    }
   ],
   "source": [
    "max(calculate_cost(pop[0],J, M, A, D, N, pt, p, W)[1].values())"
   ]
  },
  {
   "cell_type": "code",
   "execution_count": 8,
   "metadata": {},
   "outputs": [
    {
     "data": {
      "text/html": [
       "<div>\n",
       "<style scoped>\n",
       "    .dataframe tbody tr th:only-of-type {\n",
       "        vertical-align: middle;\n",
       "    }\n",
       "\n",
       "    .dataframe tbody tr th {\n",
       "        vertical-align: top;\n",
       "    }\n",
       "\n",
       "    .dataframe thead th {\n",
       "        text-align: right;\n",
       "    }\n",
       "</style>\n",
       "<table border=\"1\" class=\"dataframe\">\n",
       "  <thead>\n",
       "    <tr style=\"text-align: right;\">\n",
       "      <th></th>\n",
       "      <th>path</th>\n",
       "      <th>class</th>\n",
       "      <th>excel_num</th>\n",
       "      <th>bob</th>\n",
       "    </tr>\n",
       "  </thead>\n",
       "  <tbody>\n",
       "    <tr>\n",
       "      <th>0</th>\n",
       "      <td>env/case1/0.xlsx</td>\n",
       "      <td>1</td>\n",
       "      <td>0</td>\n",
       "      <td>[[20, 0, 0], [65, 1, 0], [20, 0, 1], [65, 1, 1...</td>\n",
       "    </tr>\n",
       "    <tr>\n",
       "      <th>1</th>\n",
       "      <td>env/case1/1.xlsx</td>\n",
       "      <td>1</td>\n",
       "      <td>1</td>\n",
       "      <td>[[22, 0, 0], [36, 1, 0], [22, 0, 1], [36, 1, 1...</td>\n",
       "    </tr>\n",
       "    <tr>\n",
       "      <th>2</th>\n",
       "      <td>env/case1/2.xlsx</td>\n",
       "      <td>1</td>\n",
       "      <td>2</td>\n",
       "      <td>[[53, 0, 0], [2, 1, 0], [53, 0, 1], [2, 1, 1],...</td>\n",
       "    </tr>\n",
       "    <tr>\n",
       "      <th>3</th>\n",
       "      <td>env/case1/3.xlsx</td>\n",
       "      <td>1</td>\n",
       "      <td>3</td>\n",
       "      <td>[[19, 0, 0], [24, 1, 0], [19, 0, 1], [24, 1, 1...</td>\n",
       "    </tr>\n",
       "    <tr>\n",
       "      <th>4</th>\n",
       "      <td>env/case1/4.xlsx</td>\n",
       "      <td>1</td>\n",
       "      <td>4</td>\n",
       "      <td>[[41, 0, 0], [47, 1, 0], [41, 0, 1], [47, 1, 1...</td>\n",
       "    </tr>\n",
       "    <tr>\n",
       "      <th>...</th>\n",
       "      <td>...</td>\n",
       "      <td>...</td>\n",
       "      <td>...</td>\n",
       "      <td>...</td>\n",
       "    </tr>\n",
       "    <tr>\n",
       "      <th>1995</th>\n",
       "      <td>env/case4/495.xlsx</td>\n",
       "      <td>4</td>\n",
       "      <td>495</td>\n",
       "      <td>[[0, 0, 0], [46, 1, 0], [0, 0, 1], [46, 1, 1],...</td>\n",
       "    </tr>\n",
       "    <tr>\n",
       "      <th>1996</th>\n",
       "      <td>env/case4/496.xlsx</td>\n",
       "      <td>4</td>\n",
       "      <td>496</td>\n",
       "      <td>[[33, 0, 0], [55, 1, 0], [33, 0, 1], [55, 1, 1...</td>\n",
       "    </tr>\n",
       "    <tr>\n",
       "      <th>1997</th>\n",
       "      <td>env/case4/497.xlsx</td>\n",
       "      <td>4</td>\n",
       "      <td>497</td>\n",
       "      <td>[[68, 0, 0], [11, 1, 0], [68, 0, 1], [11, 1, 1...</td>\n",
       "    </tr>\n",
       "    <tr>\n",
       "      <th>1998</th>\n",
       "      <td>env/case4/498.xlsx</td>\n",
       "      <td>4</td>\n",
       "      <td>498</td>\n",
       "      <td>[[14, 0, 0], [60, 1, 0], [14, 0, 1], [60, 1, 1...</td>\n",
       "    </tr>\n",
       "    <tr>\n",
       "      <th>1999</th>\n",
       "      <td>env/case4/499.xlsx</td>\n",
       "      <td>4</td>\n",
       "      <td>499</td>\n",
       "      <td>[[29, 0, 0], [43, 1, 0], [29, 0, 1], [43, 1, 1...</td>\n",
       "    </tr>\n",
       "  </tbody>\n",
       "</table>\n",
       "<p>2000 rows × 4 columns</p>\n",
       "</div>"
      ],
      "text/plain": [
       "                    path  class  excel_num  \\\n",
       "0       env/case1/0.xlsx      1          0   \n",
       "1       env/case1/1.xlsx      1          1   \n",
       "2       env/case1/2.xlsx      1          2   \n",
       "3       env/case1/3.xlsx      1          3   \n",
       "4       env/case1/4.xlsx      1          4   \n",
       "...                  ...    ...        ...   \n",
       "1995  env/case4/495.xlsx      4        495   \n",
       "1996  env/case4/496.xlsx      4        496   \n",
       "1997  env/case4/497.xlsx      4        497   \n",
       "1998  env/case4/498.xlsx      4        498   \n",
       "1999  env/case4/499.xlsx      4        499   \n",
       "\n",
       "                                                    bob  \n",
       "0     [[20, 0, 0], [65, 1, 0], [20, 0, 1], [65, 1, 1...  \n",
       "1     [[22, 0, 0], [36, 1, 0], [22, 0, 1], [36, 1, 1...  \n",
       "2     [[53, 0, 0], [2, 1, 0], [53, 0, 1], [2, 1, 1],...  \n",
       "3     [[19, 0, 0], [24, 1, 0], [19, 0, 1], [24, 1, 1...  \n",
       "4     [[41, 0, 0], [47, 1, 0], [41, 0, 1], [47, 1, 1...  \n",
       "...                                                 ...  \n",
       "1995  [[0, 0, 0], [46, 1, 0], [0, 0, 1], [46, 1, 1],...  \n",
       "1996  [[33, 0, 0], [55, 1, 0], [33, 0, 1], [55, 1, 1...  \n",
       "1997  [[68, 0, 0], [11, 1, 0], [68, 0, 1], [11, 1, 1...  \n",
       "1998  [[14, 0, 0], [60, 1, 0], [14, 0, 1], [60, 1, 1...  \n",
       "1999  [[29, 0, 0], [43, 1, 0], [29, 0, 1], [43, 1, 1...  \n",
       "\n",
       "[2000 rows x 4 columns]"
      ]
     },
     "execution_count": 8,
     "metadata": {},
     "output_type": "execute_result"
    }
   ],
   "source": [
    "import pandas as pd\n",
    "root_path = pd.read_csv('../env/bob_info.csv')\n",
    "root_path.path = root_path.path.apply(lambda x : x.replace('./','env/'))\n",
    "root_path"
   ]
  }
 ],
 "metadata": {
  "kernelspec": {
   "display_name": "biobase",
   "language": "python",
   "name": "python3"
  },
  "language_info": {
   "codemirror_mode": {
    "name": "ipython",
    "version": 3
   },
   "file_extension": ".py",
   "mimetype": "text/x-python",
   "name": "python",
   "nbconvert_exporter": "python",
   "pygments_lexer": "ipython3",
   "version": "3.9.12"
  },
  "orig_nbformat": 4
 },
 "nbformat": 4,
 "nbformat_minor": 2
}
