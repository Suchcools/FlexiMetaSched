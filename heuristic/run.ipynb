{
 "cells": [
  {
   "cell_type": "code",
   "execution_count": 1,
   "metadata": {},
   "outputs": [
    {
     "name": "stdout",
     "output_type": "stream",
     "text": [
      "INFO: Pandarallel will run on 150 workers.\n",
      "INFO: Pandarallel will use Memory file system to transfer data between the main process and workers.\n"
     ]
    },
    {
     "data": {
      "text/html": [
       "<div>\n",
       "<style scoped>\n",
       "    .dataframe tbody tr th:only-of-type {\n",
       "        vertical-align: middle;\n",
       "    }\n",
       "\n",
       "    .dataframe tbody tr th {\n",
       "        vertical-align: top;\n",
       "    }\n",
       "\n",
       "    .dataframe thead th {\n",
       "        text-align: right;\n",
       "    }\n",
       "</style>\n",
       "<table border=\"1\" class=\"dataframe\">\n",
       "  <thead>\n",
       "    <tr style=\"text-align: right;\">\n",
       "      <th></th>\n",
       "      <th>path</th>\n",
       "      <th>class</th>\n",
       "    </tr>\n",
       "  </thead>\n",
       "  <tbody>\n",
       "    <tr>\n",
       "      <th>0</th>\n",
       "      <td>scene_env/case1/0.xlsx</td>\n",
       "      <td>1</td>\n",
       "    </tr>\n",
       "    <tr>\n",
       "      <th>1</th>\n",
       "      <td>scene_env/case1/1.xlsx</td>\n",
       "      <td>1</td>\n",
       "    </tr>\n",
       "    <tr>\n",
       "      <th>2</th>\n",
       "      <td>scene_env/case1/2.xlsx</td>\n",
       "      <td>1</td>\n",
       "    </tr>\n",
       "    <tr>\n",
       "      <th>3</th>\n",
       "      <td>scene_env/case1/3.xlsx</td>\n",
       "      <td>1</td>\n",
       "    </tr>\n",
       "    <tr>\n",
       "      <th>4</th>\n",
       "      <td>scene_env/case1/4.xlsx</td>\n",
       "      <td>1</td>\n",
       "    </tr>\n",
       "    <tr>\n",
       "      <th>...</th>\n",
       "      <td>...</td>\n",
       "      <td>...</td>\n",
       "    </tr>\n",
       "    <tr>\n",
       "      <th>1525</th>\n",
       "      <td>scene_env/case6/25.xlsx</td>\n",
       "      <td>6</td>\n",
       "    </tr>\n",
       "    <tr>\n",
       "      <th>1526</th>\n",
       "      <td>scene_env/case6/26.xlsx</td>\n",
       "      <td>6</td>\n",
       "    </tr>\n",
       "    <tr>\n",
       "      <th>1527</th>\n",
       "      <td>scene_env/case6/27.xlsx</td>\n",
       "      <td>6</td>\n",
       "    </tr>\n",
       "    <tr>\n",
       "      <th>1528</th>\n",
       "      <td>scene_env/case6/28.xlsx</td>\n",
       "      <td>6</td>\n",
       "    </tr>\n",
       "    <tr>\n",
       "      <th>1529</th>\n",
       "      <td>scene_env/case6/29.xlsx</td>\n",
       "      <td>6</td>\n",
       "    </tr>\n",
       "  </tbody>\n",
       "</table>\n",
       "<p>180 rows × 2 columns</p>\n",
       "</div>"
      ],
      "text/plain": [
       "                         path  class\n",
       "0      scene_env/case1/0.xlsx      1\n",
       "1      scene_env/case1/1.xlsx      1\n",
       "2      scene_env/case1/2.xlsx      1\n",
       "3      scene_env/case1/3.xlsx      1\n",
       "4      scene_env/case1/4.xlsx      1\n",
       "...                       ...    ...\n",
       "1525  scene_env/case6/25.xlsx      6\n",
       "1526  scene_env/case6/26.xlsx      6\n",
       "1527  scene_env/case6/27.xlsx      6\n",
       "1528  scene_env/case6/28.xlsx      6\n",
       "1529  scene_env/case6/29.xlsx      6\n",
       "\n",
       "[180 rows x 2 columns]"
      ]
     },
     "execution_count": 1,
     "metadata": {},
     "output_type": "execute_result"
    }
   ],
   "source": [
    "import pandas as pd\n",
    "from methods import aco, ga, sa, ts\n",
    "from methods import common\n",
    "import numpy as np\n",
    "from pandarallel import pandarallel\n",
    "pandarallel.initialize(nb_workers=150,progress_bar=True)\n",
    "root='scene_env/'\n",
    "rawdata=pd.read_csv('./scene_env/env_info.csv')\n",
    "rawdata.path=rawdata.path.apply(lambda x:x.replace('./',root))\n",
    "times = 10\n",
    "rawdata=rawdata.iloc[:1800]\n",
    "rawdata=rawdata.groupby('class').head(30)\n",
    "rawdata"
   ]
  },
  {
   "cell_type": "code",
   "execution_count": 6,
   "metadata": {},
   "outputs": [],
   "source": [
    "def get_mean_quick(path):\n",
    "    env = common.read_env(path)\n",
    "    sa_lst=[]\n",
    "    ga_lst=[]\n",
    "    aco_lst=[]\n",
    "    ts_lst=[]\n",
    "    for i in range(times):\n",
    "        sa_lst.append(sa(env))\n",
    "        ga_lst.append(ga(env))\n",
    "        aco_lst.append(aco(env))\n",
    "        ts_lst.append(ts(env))\n",
    "    return sa_lst,ga_lst,aco_lst,ts_lst"
   ]
  },
  {
   "cell_type": "code",
   "execution_count": 7,
   "metadata": {},
   "outputs": [],
   "source": [
    "a1=get_mean_quick(rawdata.path[0])"
   ]
  },
  {
   "cell_type": "code",
   "execution_count": 2,
   "metadata": {},
   "outputs": [
    {
     "data": {
      "application/vnd.jupyter.widget-view+json": {
       "model_id": "6e994c4ad56c430694ad4d8c0f9a681f",
       "version_major": 2,
       "version_minor": 0
      },
      "text/plain": [
       "VBox(children=(HBox(children=(IntProgress(value=0, description='0.00%', max=1), Label(value='0 / 1'))), HBox(c…"
      ]
     },
     "metadata": {},
     "output_type": "display_data"
    }
   ],
   "source": [
    "def get_mean_quick(path):\n",
    "    env = common.read_env(path)\n",
    "    sa_lst=[]\n",
    "    ga_lst=[]\n",
    "    aco_lst=[]\n",
    "    ts_lst=[]\n",
    "    for i in range(times):\n",
    "        sa_lst.append(sa(env))\n",
    "        ga_lst.append(ga(env))\n",
    "        aco_lst.append(aco(env))\n",
    "        ts_lst.append(ts(env))\n",
    "    return sa_lst,ga_lst\n",
    "temp=rawdata.path.parallel_apply(lambda x: get_mean_quick(x))\n",
    "a1=pd.DataFrame([x[0] for x in temp])\n",
    "a2=pd.DataFrame([x[1] for x in temp])\n",
    "pd.concat([a1,a2],axis=1,ignore_index=True).to_csv(f'result/result.csv',index=False)"
   ]
  },
  {
   "cell_type": "code",
   "execution_count": null,
   "metadata": {},
   "outputs": [],
   "source": []
  }
 ],
 "metadata": {
  "kernelspec": {
   "display_name": "biobase",
   "language": "python",
   "name": "python3"
  },
  "language_info": {
   "codemirror_mode": {
    "name": "ipython",
    "version": 3
   },
   "file_extension": ".py",
   "mimetype": "text/x-python",
   "name": "python",
   "nbconvert_exporter": "python",
   "pygments_lexer": "ipython3",
   "version": "3.9.12"
  },
  "orig_nbformat": 4,
  "vscode": {
   "interpreter": {
    "hash": "c4342b7b77d03aa170c0061ccc2d89deb9ee932a6281860c89ed54b64e098c02"
   }
  }
 },
 "nbformat": 4,
 "nbformat_minor": 2
}
